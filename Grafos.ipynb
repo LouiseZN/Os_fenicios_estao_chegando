{
 "cells": [
  {
   "cell_type": "markdown",
   "id": "0808c469",
   "metadata": {},
   "source": [
    "# **T2** ALESTE: Os fenícios estão chegando\n",
    "**Nomes**: Louise Zanol Northfleet (24106699) e Livia ... (...)\n",
    "\n",
    "Na teoria matemática, grafos são compostos por dois elementos:\n",
    "- Vértices ou nós;\n",
    "- Arestas.\n",
    "\n",
    "O nosso grafo terá q ser um:\n",
    "- Digrafo (grafo orientado) --> tem setinhas \n",
    "- Grafo ponderado --> cada setinha vai ter um peso \n",
    "\n",
    "G(V,E):\n",
    "- Aresta fechada de E se relaciona apenas com um ponto de V;\n",
    "- Arestas abertas que se relacionam com exatamente dois pontos de V.\n",
    "\n",
    "\n",
    "**O melhor caminho** é o que custa menos = Tem que **atravessar menos arestas**.\n",
    "\n"
   ]
  },
  {
   "cell_type": "code",
   "execution_count": 16,
   "id": "98fef168",
   "metadata": {},
   "outputs": [],
   "source": [
    "import networkx as nx\n",
    "\n",
    "import matplotlib.pyplot as plt\n"
   ]
  },
  {
   "cell_type": "code",
   "execution_count": null,
   "id": "f5341599",
   "metadata": {},
   "outputs": [],
   "source": []
  },
  {
   "cell_type": "markdown",
   "id": "2eaab88f",
   "metadata": {},
   "source": [
    "Coisas q o network faz \n",
    "\n",
    "print(G.number_of_nodes()) # Imprima o numero de nós do grafo\n",
    "\n",
    "print(G.number_of_edges()) # Imprima o número de arestas do grafo\n",
    "\n",
    "G.add_edge(1, 2) # Adicione uma aresta entre 1 e 2\n",
    "\n",
    "e = (2, 3) # tupla\n",
    "\n",
    "G.add_edge(*e)  # desmancha a tupla se a variável for uma tupla\n",
    "\n",
    "print(list(G.nodes))\n",
    "print(list(G.edges))\n",
    "print(list(G.adj[1]))  # or list(G.neighbors(1))\n",
    "print(G.degree[1])  # the number of edges incident to 1\n",
    "\n",
    "# Mostre o elemento de determinado indice:\n",
    "\n",
    "print(G.edges([2, 'm']))\n",
    "print(G.degree([2, 3]))\n",
    "\n",
    "\n",
    "G.remove_node(2) # remove nó\n",
    "G.remove_nodes_from(\"spam\")\n",
    "list(G.nodes)\n",
    "G.remove_edge(1, 3) # remove aresta\n",
    "\n",
    "É possível criar um grapho à partir de outro grapho.\n",
    "Em um digrafo o primeiro elemento é a origem e o segundo é o destino.\n",
    "Como ler o print dessa função? \n",
    "* Tem uma aresta ligando os elemetos (1, 2) e outra aresta ligando os elementos (2, 1);\n",
    "\n",
    "'''\n",
    "\n",
    "G.add_edge(1, 2)\n",
    "H = nx.DiGraph(G)   # mudando o tipo para DiGraph criando o grapho H apartir do grapho G\n",
    "print(list(H.edges()))\n",
    "edgelist = [(0, 1), (1, 2), (2, 3)]\n",
    "H = nx.Graph(edgelist)\n"
   ]
  },
  {
   "cell_type": "code",
   "execution_count": 17,
   "id": "bc7dc170",
   "metadata": {},
   "outputs": [
    {
     "name": "stdout",
     "output_type": "stream",
     "text": [
      "Nós: 8\n",
      "Arestas: 8\n"
     ]
    }
   ],
   "source": [
    "# Criamos o Nosso grafo:\n",
    "G = nx.Graph()\n",
    "\n",
    "#inicializa variaveis:\n",
    "finalizado = False\n",
    "count_coluna = 0\n",
    "count_linha = 0\n",
    "\n",
    "while finalizado == False:\n",
    "\n",
    "    with open(\"case0.map\", \"r\", encoding=\"utf-8\") as f: # le o mapa \n",
    "        mapa = [linha.strip() for linha in f if linha.strip()]\n",
    "\n",
    "    # Constrói o grafo a partir do mapa\n",
    "    l, c = mapa[0].split(\" \")\n",
    "    \n",
    "    for i in range(len(l)):\n",
    "        for j in range(len(c)):\n",
    "            valor = mapa[i][j]\n",
    "\n",
    "            if valor != '*':\n",
    "                G.add_node((i, j), value=valor)\n",
    "                # Adiciona arestas vizinhos (cima, baixo, esquerda, direita)\n",
    "                for dx, dy in [(-1, 0), (1, 0), (0, -1), (0, 1)]:\n",
    "                    ni, nj = i + dx, j + dy\n",
    "                    if 0 <= ni < len(mapa) and 0 <= nj < len(mapa[0]):\n",
    "                        if mapa[ni][nj] != '*':\n",
    "                            G.add_edge((i, j), (ni, nj))\n",
    "\n",
    "    finalizado = True \n",
    "\n",
    "    print(f\"Nós: {G.number_of_nodes()}\")\n",
    "    print(f\"Arestas: {G.number_of_edges()}\")"
   ]
  },
  {
   "cell_type": "code",
   "execution_count": null,
   "id": "0939ce13",
   "metadata": {},
   "outputs": [
    {
     "ename": "KeyError",
     "evalue": "'value'",
     "output_type": "error",
     "traceback": [
      "\u001b[31m---------------------------------------------------------------------------\u001b[39m",
      "\u001b[31mKeyError\u001b[39m                                  Traceback (most recent call last)",
      "\u001b[36mCell\u001b[39m\u001b[36m \u001b[39m\u001b[32mIn[18]\u001b[39m\u001b[32m, line 5\u001b[39m\n\u001b[32m      2\u001b[39m pos = {node: (node[\u001b[32m1\u001b[39m], -node[\u001b[32m0\u001b[39m]) \u001b[38;5;28;01mfor\u001b[39;00m node \u001b[38;5;129;01min\u001b[39;00m G.nodes}  \u001b[38;5;66;03m# posiciona como no mapa\u001b[39;00m\n\u001b[32m      4\u001b[39m nx.draw(G, pos, with_labels=\u001b[38;5;28;01mFalse\u001b[39;00m, node_size=\u001b[32m30\u001b[39m, node_color=\u001b[33m\"\u001b[39m\u001b[33mskyblue\u001b[39m\u001b[33m\"\u001b[39m)\n\u001b[32m----> \u001b[39m\u001b[32m5\u001b[39m labels = {node: \u001b[43mG\u001b[49m\u001b[43m.\u001b[49m\u001b[43mnodes\u001b[49m\u001b[43m[\u001b[49m\u001b[43mnode\u001b[49m\u001b[43m]\u001b[49m\u001b[43m[\u001b[49m\u001b[33;43m'\u001b[39;49m\u001b[33;43mvalue\u001b[39;49m\u001b[33;43m'\u001b[39;49m\u001b[43m]\u001b[49m \u001b[38;5;28;01mfor\u001b[39;00m node \u001b[38;5;129;01min\u001b[39;00m G.nodes}\n\u001b[32m      7\u001b[39m plt.title(\u001b[33m\"\u001b[39m\u001b[33mVisualização do grafo\u001b[39m\u001b[33m\"\u001b[39m)\n\u001b[32m      8\u001b[39m plt.show()\n",
      "\u001b[31mKeyError\u001b[39m: 'value'"
     ]
    },
    {
     "data": {
      "image/png": "[encoded data removed]",
      "text/plain": [
       "<Figure size 640x480 with 1 Axes>"
      ]
     },
     "metadata": {},
     "output_type": "display_data"
    }
   ],
   "source": []
  }
 ],
 "metadata": {
  "kernelspec": {
   "display_name": "ambiente-cpa",
   "language": "python",
   "name": "python3"
  },
  "language_info": {
   "codemirror_mode": {
    "name": "ipython",
    "version": 3
   },
   "file_extension": ".py",
   "mimetype": "text/x-python",
   "name": "python",
   "nbconvert_exporter": "python",
   "pygments_lexer": "ipython3",
   "version": "3.12.9"
  }
 },
 "nbformat": 4,
 "nbformat_minor": 5
}
