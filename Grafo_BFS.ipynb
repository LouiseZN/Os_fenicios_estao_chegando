{
 "cells": [
  {
   "cell_type": "code",
   "execution_count": 4,
   "id": "d3465ce5",
   "metadata": {},
   "outputs": [],
   "source": [
    "import networkx as nx\n",
    "from collections import deque\n"
   ]
  },
  {
   "cell_type": "code",
   "execution_count": 5,
   "id": "fa378997",
   "metadata": {},
   "outputs": [
    {
     "name": "stdout",
     "output_type": "stream",
     "text": [
      "\n",
      "3: i =3, j =43 \n",
      "5: i =5, j =42 \n",
      "8: i =6, j =47 \n",
      "4: i =11, j =45 \n",
      "2: i =13, j =14 \n",
      "9: i =14, j =15 \n",
      "6: i =19, j =14 \n",
      "7: i =19, j =19 \n",
      "1: i =24, j =26 \n",
      "Nós: 939\n",
      "Arestas: 1518\n"
     ]
    }
   ],
   "source": [
    "import time\n",
    "\n",
    "start = time.time()\n",
    "\n",
    "# Criamos o Nosso grafo :(\n",
    "G = nx.Graph()\n",
    "\n",
    "#inicializa variaveis:\n",
    "finalizado = False\n",
    "count_coluna = 0\n",
    "count_linha = 0\n",
    "cordenadas = \"\"\n",
    "\n",
    "while finalizado == False:\n",
    "\n",
    "    with open(\"case0.map\", \"r\", encoding=\"utf-8\") as f: # le o mapa \n",
    "        mapa = [linha.strip() for linha in f if linha.strip()]\n",
    "\n",
    "    # Constrói o grafo a partir do mapa\n",
    "    l, c = mapa[0].split(\" \")\n",
    "    l = int(l) \n",
    "    c = int(c) \n",
    "\n",
    "    mapa = mapa[1:] # tira a primeira linha \n",
    "\n",
    "    for i in range(l): # linha \n",
    "        for j in range(c): # coluna \n",
    "\n",
    "            valor = mapa[i][j]\n",
    "            #print(valor)\n",
    "\n",
    "            if valor != '*': # se é uma terra entao ele nao add um nodo \n",
    "                G.add_node((i, j), value=valor)\n",
    "                if valor.isdigit() == True: # se é um porto add as cordenadas nas cordenadas \n",
    "                    cordenadas = cordenadas + \"\\n\" + f\"{valor}: i ={i}, j ={j} \"\n",
    "                # Adiciona arestas vizinhos (cima, baixo, esquerda, direita)\n",
    "                for dx, dy in [(-1, 0), (1, 0), (0, -1), (0, 1)]: # add as arestas nos nodos\n",
    "                    ni, nj = i + dx, j + dy\n",
    "                    if 0 <= ni < len(mapa) and 0 <= nj < len(mapa[0]): # se os nodos norte sul leste e eoste se existirem e se estao no mapa \n",
    "                        if mapa[ni][nj] != '*':\n",
    "                            G.add_edge((i, j), (ni, nj))\n",
    "            \n",
    "                \n",
    "    print(cordenadas)\n",
    "    finalizado = True \n",
    "\n",
    "    print(f\"Nós: {G.number_of_nodes()}\")\n",
    "    print(f\"Arestas: {G.number_of_edges()}\")"
   ]
  },
  {
   "cell_type": "code",
   "execution_count": 6,
   "id": "09fcbe5e",
   "metadata": {},
   "outputs": [],
   "source": [
    "\n",
    "def bfs_path(G, start, goal):\n",
    "    visited = set()\n",
    "    queue = deque([(start, [start])])  # (nó atual, caminho até ele)\n",
    "\n",
    "    while queue:\n",
    "        node, path = queue.popleft()\n",
    "        if node == goal:\n",
    "            return path\n",
    "        if node not in visited:\n",
    "            visited.add(node)\n",
    "            for neighbor in G.neighbors(node):\n",
    "                queue.append((neighbor, path + [neighbor]))\n",
    "\n"
   ]
  },
  {
   "cell_type": "code",
   "execution_count": 7,
   "id": "44ed6d95",
   "metadata": {},
   "outputs": [
    {
     "ename": "TypeError",
     "evalue": "bfs_path() got an unexpected keyword argument 'source'",
     "output_type": "error",
     "traceback": [
      "\u001b[31m---------------------------------------------------------------------------\u001b[39m",
      "\u001b[31mTypeError\u001b[39m                                 Traceback (most recent call last)",
      "\u001b[36mCell\u001b[39m\u001b[36m \u001b[39m\u001b[32mIn[7]\u001b[39m\u001b[32m, line 32\u001b[39m\n\u001b[32m     29\u001b[39m     v_f, (x_f, y_f) = extraidas_ordenadas[i + \u001b[32m1\u001b[39m]\n\u001b[32m     31\u001b[39m \u001b[38;5;28;01mif\u001b[39;00m nx.has_path(G, (x_i, y_i), (x_f, y_f)) == \u001b[38;5;28;01mTrue\u001b[39;00m:\n\u001b[32m---> \u001b[39m\u001b[32m32\u001b[39m     caminho = \u001b[43mbfs_path\u001b[49m\u001b[43m(\u001b[49m\u001b[43mG\u001b[49m\u001b[43m,\u001b[49m\u001b[43m  \u001b[49m\u001b[43msource\u001b[49m\u001b[43m=\u001b[49m\u001b[43m(\u001b[49m\u001b[43mx_i\u001b[49m\u001b[43m,\u001b[49m\u001b[43m \u001b[49m\u001b[43my_i\u001b[49m\u001b[43m)\u001b[49m\u001b[43m,\u001b[49m\u001b[43m \u001b[49m\u001b[43mtarget\u001b[49m\u001b[43m=\u001b[49m\u001b[43m(\u001b[49m\u001b[43mx_f\u001b[49m\u001b[43m,\u001b[49m\u001b[43m \u001b[49m\u001b[43my_f\u001b[49m\u001b[43m)\u001b[49m\u001b[43m)\u001b[49m\n\u001b[32m     33\u001b[39m     num_p_num.append(caminho)\n\u001b[32m     34\u001b[39m     \u001b[38;5;28mprint\u001b[39m(v_i,\u001b[33m\"\u001b[39m\u001b[33m -> \u001b[39m\u001b[33m\"\u001b[39m,v_f, \u001b[33m\"\u001b[39m\u001b[33m Caminho encontrado:\u001b[39m\u001b[33m\"\u001b[39m, caminho)\n",
      "\u001b[31mTypeError\u001b[39m: bfs_path() got an unexpected keyword argument 'source'"
     ]
    }
   ],
   "source": [
    "\n",
    "extraidas = []\n",
    "cordenadas = cordenadas.split(\"\\n\")\n",
    "count = 0\n",
    "caminhos_encontrados = False \n",
    "i = 0 \n",
    "num_p_num = []\n",
    "\n",
    "\n",
    "for item in cordenadas:\n",
    "    try:\n",
    "        v = item.split(\":\")[0].strip()\n",
    "        coords = item.split(\":\")[1]\n",
    "        x = int(coords.split(\",\")[0].split(\"=\")[1])\n",
    "        y = int(coords.split(\",\")[1].split(\"=\")[1])\n",
    "        extraidas.append((v, (x, y)))\n",
    "\n",
    "    except IndexError:\n",
    "        pass\n",
    "\n",
    "extraidas_ordenadas = sorted(extraidas, key=lambda item: int(item[0]))\n",
    "\n",
    "for i in range(len(extraidas_ordenadas)):\n",
    "    if i == len(extraidas_ordenadas) - 1:\n",
    "            # Último elemento: conecta com o primeiro (fecha o ciclo)\n",
    "        v_i, (x_i, y_i) = extraidas_ordenadas[i]\n",
    "        v_f, (x_f, y_f) = extraidas_ordenadas[0]\n",
    "    else:\n",
    "        v_i, (x_i, y_i) = extraidas_ordenadas[i]\n",
    "        v_f, (x_f, y_f) = extraidas_ordenadas[i + 1]\n",
    "\n",
    "    if nx.has_path(G, (x_i, y_i), (x_f, y_f)) == True:\n",
    "        caminho = bfs_path(G,  source=(x_i, y_i), target=(x_f, y_f))\n",
    "        num_p_num.append(caminho)\n",
    "        print(v_i,\" -> \",v_f, \" Caminho encontrado:\", caminho)\n",
    "\n",
    "\n",
    "    else:\n",
    "        conn = False\n",
    "        for j in range(i + 2, len(extraidas_ordenadas)):\n",
    "            v_f, (x_f, y_f) = extraidas_ordenadas[j % len(extraidas_ordenadas)]  # Usa módulo para circular\n",
    "            if nx.has_path(G, (x_i, y_i), (x_f, y_f)):\n",
    "                caminho = nx.astar_path(G, source=(x_i, y_i), target=(x_f, y_f), heuristic=manhattan, weight='weight')\n",
    "                print(v_i, \"->\", v_f, \"Caminho encontrado após tentativa:\", caminho)\n",
    "\n",
    "                num_p_num.append(caminho)\n",
    "                conn = True\n",
    "                break  # Encerra o laço ao encontrar um caminho\n",
    "\n",
    "            if not conn:\n",
    "                pass\n",
    " \n"
   ]
  }
 ],
 "metadata": {
  "kernelspec": {
   "display_name": "ambiente-cpa",
   "language": "python",
   "name": "python3"
  },
  "language_info": {
   "codemirror_mode": {
    "name": "ipython",
    "version": 3
   },
   "file_extension": ".py",
   "mimetype": "text/x-python",
   "name": "python",
   "nbconvert_exporter": "python",
   "pygments_lexer": "ipython3",
   "version": "3.12.9"
  }
 },
 "nbformat": 4,
 "nbformat_minor": 5
}
